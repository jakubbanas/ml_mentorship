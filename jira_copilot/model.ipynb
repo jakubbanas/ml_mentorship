{
 "cells": [
  {
   "cell_type": "code",
   "execution_count": 1,
   "metadata": {},
   "outputs": [
    {
     "name": "stdout",
     "output_type": "stream",
     "text": [
      "Requirement already satisfied: jira in /Users/jbanas/.pyenv/versions/3.10.0/lib/python3.10/site-packages (3.8.0)\n",
      "Requirement already satisfied: defusedxml in /Users/jbanas/.pyenv/versions/3.10.0/lib/python3.10/site-packages (from jira) (0.7.1)\n",
      "Requirement already satisfied: Pillow>=2.1.0 in /Users/jbanas/.pyenv/versions/3.10.0/lib/python3.10/site-packages (from jira) (11.0.0)\n",
      "Requirement already satisfied: requests-oauthlib>=1.1.0 in /Users/jbanas/.pyenv/versions/3.10.0/lib/python3.10/site-packages (from jira) (2.0.0)\n",
      "Requirement already satisfied: requests>=2.10.0 in /Users/jbanas/.pyenv/versions/3.10.0/lib/python3.10/site-packages (from jira) (2.32.3)\n",
      "Requirement already satisfied: requests-toolbelt in /Users/jbanas/.pyenv/versions/3.10.0/lib/python3.10/site-packages (from jira) (1.0.0)\n",
      "Requirement already satisfied: typing-extensions>=3.7.4.2 in /Users/jbanas/.pyenv/versions/3.10.0/lib/python3.10/site-packages (from jira) (4.12.2)\n",
      "Requirement already satisfied: packaging in /Users/jbanas/.pyenv/versions/3.10.0/lib/python3.10/site-packages (from jira) (24.1)\n",
      "Requirement already satisfied: urllib3<3,>=1.21.1 in /Users/jbanas/.pyenv/versions/3.10.0/lib/python3.10/site-packages (from requests>=2.10.0->jira) (2.2.2)\n",
      "Requirement already satisfied: charset-normalizer<4,>=2 in /Users/jbanas/.pyenv/versions/3.10.0/lib/python3.10/site-packages (from requests>=2.10.0->jira) (3.3.2)\n",
      "Requirement already satisfied: idna<4,>=2.5 in /Users/jbanas/.pyenv/versions/3.10.0/lib/python3.10/site-packages (from requests>=2.10.0->jira) (3.7)\n",
      "Requirement already satisfied: certifi>=2017.4.17 in /Users/jbanas/.pyenv/versions/3.10.0/lib/python3.10/site-packages (from requests>=2.10.0->jira) (2024.7.4)\n",
      "Requirement already satisfied: oauthlib>=3.0.0 in /Users/jbanas/.pyenv/versions/3.10.0/lib/python3.10/site-packages (from requests-oauthlib>=1.1.0->jira) (3.2.2)\n",
      "\u001b[33mWARNING: You are using pip version 21.2.3; however, version 24.3.1 is available.\n",
      "You should consider upgrading via the '/Users/jbanas/.pyenv/versions/3.10.0/bin/python -m pip install --upgrade pip' command.\u001b[0m\n",
      "Note: you may need to restart the kernel to use updated packages.\n",
      "Requirement already satisfied: pandas in /Users/jbanas/.pyenv/versions/3.10.0/lib/python3.10/site-packages (2.2.2)\n",
      "Requirement already satisfied: tzdata>=2022.7 in /Users/jbanas/.pyenv/versions/3.10.0/lib/python3.10/site-packages (from pandas) (2024.1)\n",
      "Requirement already satisfied: python-dateutil>=2.8.2 in /Users/jbanas/.pyenv/versions/3.10.0/lib/python3.10/site-packages (from pandas) (2.9.0.post0)\n",
      "Requirement already satisfied: pytz>=2020.1 in /Users/jbanas/.pyenv/versions/3.10.0/lib/python3.10/site-packages (from pandas) (2024.1)\n",
      "Requirement already satisfied: numpy>=1.22.4 in /Users/jbanas/.pyenv/versions/3.10.0/lib/python3.10/site-packages (from pandas) (2.0.1)\n",
      "Requirement already satisfied: six>=1.5 in /Users/jbanas/.pyenv/versions/3.10.0/lib/python3.10/site-packages (from python-dateutil>=2.8.2->pandas) (1.16.0)\n",
      "\u001b[33mWARNING: You are using pip version 21.2.3; however, version 24.3.1 is available.\n",
      "You should consider upgrading via the '/Users/jbanas/.pyenv/versions/3.10.0/bin/python -m pip install --upgrade pip' command.\u001b[0m\n",
      "Note: you may need to restart the kernel to use updated packages.\n",
      "Requirement already satisfied: matplotlib in /Users/jbanas/.pyenv/versions/3.10.0/lib/python3.10/site-packages (3.9.2)\n",
      "Requirement already satisfied: contourpy>=1.0.1 in /Users/jbanas/.pyenv/versions/3.10.0/lib/python3.10/site-packages (from matplotlib) (1.3.1)\n",
      "Requirement already satisfied: kiwisolver>=1.3.1 in /Users/jbanas/.pyenv/versions/3.10.0/lib/python3.10/site-packages (from matplotlib) (1.4.7)\n",
      "Requirement already satisfied: numpy>=1.23 in /Users/jbanas/.pyenv/versions/3.10.0/lib/python3.10/site-packages (from matplotlib) (2.0.1)\n",
      "Requirement already satisfied: pyparsing>=2.3.1 in /Users/jbanas/.pyenv/versions/3.10.0/lib/python3.10/site-packages (from matplotlib) (3.1.2)\n",
      "Requirement already satisfied: python-dateutil>=2.7 in /Users/jbanas/.pyenv/versions/3.10.0/lib/python3.10/site-packages (from matplotlib) (2.9.0.post0)\n",
      "Requirement already satisfied: fonttools>=4.22.0 in /Users/jbanas/.pyenv/versions/3.10.0/lib/python3.10/site-packages (from matplotlib) (4.55.0)\n",
      "Requirement already satisfied: pillow>=8 in /Users/jbanas/.pyenv/versions/3.10.0/lib/python3.10/site-packages (from matplotlib) (11.0.0)\n",
      "Requirement already satisfied: cycler>=0.10 in /Users/jbanas/.pyenv/versions/3.10.0/lib/python3.10/site-packages (from matplotlib) (0.12.1)\n",
      "Requirement already satisfied: packaging>=20.0 in /Users/jbanas/.pyenv/versions/3.10.0/lib/python3.10/site-packages (from matplotlib) (24.1)\n",
      "Requirement already satisfied: six>=1.5 in /Users/jbanas/.pyenv/versions/3.10.0/lib/python3.10/site-packages (from python-dateutil>=2.7->matplotlib) (1.16.0)\n",
      "\u001b[33mWARNING: You are using pip version 21.2.3; however, version 24.3.1 is available.\n",
      "You should consider upgrading via the '/Users/jbanas/.pyenv/versions/3.10.0/bin/python -m pip install --upgrade pip' command.\u001b[0m\n",
      "Note: you may need to restart the kernel to use updated packages.\n",
      "Requirement already satisfied: seaborn in /Users/jbanas/.pyenv/versions/3.10.0/lib/python3.10/site-packages (0.13.2)\n",
      "Requirement already satisfied: matplotlib!=3.6.1,>=3.4 in /Users/jbanas/.pyenv/versions/3.10.0/lib/python3.10/site-packages (from seaborn) (3.9.2)\n",
      "Requirement already satisfied: pandas>=1.2 in /Users/jbanas/.pyenv/versions/3.10.0/lib/python3.10/site-packages (from seaborn) (2.2.2)\n",
      "Requirement already satisfied: numpy!=1.24.0,>=1.20 in /Users/jbanas/.pyenv/versions/3.10.0/lib/python3.10/site-packages (from seaborn) (2.0.1)\n",
      "Requirement already satisfied: kiwisolver>=1.3.1 in /Users/jbanas/.pyenv/versions/3.10.0/lib/python3.10/site-packages (from matplotlib!=3.6.1,>=3.4->seaborn) (1.4.7)\n",
      "Requirement already satisfied: fonttools>=4.22.0 in /Users/jbanas/.pyenv/versions/3.10.0/lib/python3.10/site-packages (from matplotlib!=3.6.1,>=3.4->seaborn) (4.55.0)\n",
      "Requirement already satisfied: cycler>=0.10 in /Users/jbanas/.pyenv/versions/3.10.0/lib/python3.10/site-packages (from matplotlib!=3.6.1,>=3.4->seaborn) (0.12.1)\n",
      "Requirement already satisfied: contourpy>=1.0.1 in /Users/jbanas/.pyenv/versions/3.10.0/lib/python3.10/site-packages (from matplotlib!=3.6.1,>=3.4->seaborn) (1.3.1)\n",
      "Requirement already satisfied: packaging>=20.0 in /Users/jbanas/.pyenv/versions/3.10.0/lib/python3.10/site-packages (from matplotlib!=3.6.1,>=3.4->seaborn) (24.1)\n",
      "Requirement already satisfied: pyparsing>=2.3.1 in /Users/jbanas/.pyenv/versions/3.10.0/lib/python3.10/site-packages (from matplotlib!=3.6.1,>=3.4->seaborn) (3.1.2)\n",
      "Requirement already satisfied: python-dateutil>=2.7 in /Users/jbanas/.pyenv/versions/3.10.0/lib/python3.10/site-packages (from matplotlib!=3.6.1,>=3.4->seaborn) (2.9.0.post0)\n",
      "Requirement already satisfied: pillow>=8 in /Users/jbanas/.pyenv/versions/3.10.0/lib/python3.10/site-packages (from matplotlib!=3.6.1,>=3.4->seaborn) (11.0.0)\n",
      "Requirement already satisfied: tzdata>=2022.7 in /Users/jbanas/.pyenv/versions/3.10.0/lib/python3.10/site-packages (from pandas>=1.2->seaborn) (2024.1)\n",
      "Requirement already satisfied: pytz>=2020.1 in /Users/jbanas/.pyenv/versions/3.10.0/lib/python3.10/site-packages (from pandas>=1.2->seaborn) (2024.1)\n",
      "Requirement already satisfied: six>=1.5 in /Users/jbanas/.pyenv/versions/3.10.0/lib/python3.10/site-packages (from python-dateutil>=2.7->matplotlib!=3.6.1,>=3.4->seaborn) (1.16.0)\n",
      "\u001b[33mWARNING: You are using pip version 21.2.3; however, version 24.3.1 is available.\n",
      "You should consider upgrading via the '/Users/jbanas/.pyenv/versions/3.10.0/bin/python -m pip install --upgrade pip' command.\u001b[0m\n",
      "Note: you may need to restart the kernel to use updated packages.\n",
      "Requirement already satisfied: sklearn in /Users/jbanas/.pyenv/versions/3.10.0/lib/python3.10/site-packages (0.0)\n",
      "Requirement already satisfied: scikit-learn in /Users/jbanas/.pyenv/versions/3.10.0/lib/python3.10/site-packages (from sklearn) (1.5.2)\n",
      "Requirement already satisfied: scipy>=1.6.0 in /Users/jbanas/.pyenv/versions/3.10.0/lib/python3.10/site-packages (from scikit-learn->sklearn) (1.14.1)\n",
      "Requirement already satisfied: threadpoolctl>=3.1.0 in /Users/jbanas/.pyenv/versions/3.10.0/lib/python3.10/site-packages (from scikit-learn->sklearn) (3.5.0)\n",
      "Requirement already satisfied: numpy>=1.19.5 in /Users/jbanas/.pyenv/versions/3.10.0/lib/python3.10/site-packages (from scikit-learn->sklearn) (2.0.1)\n",
      "Requirement already satisfied: joblib>=1.2.0 in /Users/jbanas/.pyenv/versions/3.10.0/lib/python3.10/site-packages (from scikit-learn->sklearn) (1.4.2)\n",
      "\u001b[33mWARNING: You are using pip version 21.2.3; however, version 24.3.1 is available.\n",
      "You should consider upgrading via the '/Users/jbanas/.pyenv/versions/3.10.0/bin/python -m pip install --upgrade pip' command.\u001b[0m\n",
      "Note: you may need to restart the kernel to use updated packages.\n"
     ]
    }
   ],
   "source": [
    "%pip install jira\n",
    "%pip install pandas\n",
    "%pip install matplotlib\n",
    "%pip install seaborn\n",
    "%pip install sklearn\n",
    "\n",
    "import pandas as pd\n",
    "from jira import JIRA\n",
    "import seaborn as sns\n",
    "sns.set_theme()"
   ]
  },
  {
   "cell_type": "code",
   "execution_count": null,
   "metadata": {},
   "outputs": [],
   "source": [
    "import os\n",
    "\n",
    "JIRA_URL = os.getenv(\"JIRA_URL\")\n",
    "JIRA_API_KEY = os.getenv(\"JIRA_API_KEY\")\n",
    "JIRA_EMAIL = os.getenv(\"JIRA_EMAIL\")\n",
    "\n",
    "jira = JIRA(JIRA_URL, basic_auth=(JIRA_EMAIL, JIRA_API_KEY))\n"
   ]
  },
  {
   "cell_type": "code",
   "execution_count": 4,
   "metadata": {},
   "outputs": [],
   "source": [
    "STORY_POINTS_FIELD = 'customfield_10004'\n",
    "FREQUENCY_SEVERITY_FIELD = 'customfield_18774'\n",
    "\n",
    "issues = jira.search_issues(\n",
    "    'project=CTOOLS', \n",
    "    maxResults=False,\n",
    "    fields=f'summary,issuetype,description,priority,reporter,{STORY_POINTS_FIELD},{FREQUENCY_SEVERITY_FIELD}'\n",
    ")"
   ]
  },
  {
   "cell_type": "code",
   "execution_count": 22,
   "metadata": {},
   "outputs": [],
   "source": [
    "description = lambda issue: issue.fields.summary + '\\n' + issue.fields.description if issue.fields.description else issue.fields.summary\n",
    "\n",
    "df = pd.DataFrame([{\n",
    "    'key': issue.key,\n",
    "    'description': description(issue),\n",
    "    'type': issue.fields.issuetype.name,\n",
    "    'priority': issue.fields.priority.name,\n",
    "    'story_points': issue.fields.customfield_10004,\n",
    "    'frequency': issue.fields.customfield_18774,\n",
    "    'reporter': issue.fields.reporter.displayName\n",
    "} for issue in issues])\n",
    "\n",
    "df.set_index('key', inplace=True)"
   ]
  },
  {
   "cell_type": "code",
   "execution_count": 23,
   "metadata": {},
   "outputs": [
    {
     "data": {
      "text/plain": [
       "<Axes: >"
      ]
     },
     "execution_count": 23,
     "metadata": {},
     "output_type": "execute_result"
    },
    {
     "data": {
      "image/png": "[encoded data removed]",
      "text/plain": [
       "<Figure size 640x480 with 1 Axes>"
      ]
     },
     "metadata": {},
     "output_type": "display_data"
    }
   ],
   "source": [
    "df['story_points'].hist()"
   ]
  },
  {
   "cell_type": "code",
   "execution_count": 24,
   "metadata": {},
   "outputs": [
    {
     "name": "stderr",
     "output_type": "stream",
     "text": [
      "/var/folders/hj/s2py2klj33j7glvwd3kyk5200000gp/T/ipykernel_28862/1139394250.py:4: SettingWithCopyWarning: \n",
      "A value is trying to be set on a copy of a slice from a DataFrame.\n",
      "Try using .loc[row_indexer,col_indexer] = value instead\n",
      "\n",
      "See the caveats in the documentation: https://pandas.pydata.org/pandas-docs/stable/user_guide/indexing.html#returning-a-view-versus-a-copy\n",
      "  df_refined['complexity'] = df_refined['story_points'].apply(lambda x: 'S' if x < 3 else 'M' if x == 3 else 'L')\n"
     ]
    },
    {
     "data": {
      "text/plain": [
       "<Axes: ylabel='count'>"
      ]
     },
     "execution_count": 24,
     "metadata": {},
     "output_type": "execute_result"
    },
    {
     "data": {
      "image/png": "[encoded data removed]",
      "text/plain": [
       "<Figure size 640x480 with 1 Axes>"
      ]
     },
     "metadata": {},
     "output_type": "display_data"
    }
   ],
   "source": [
    "# filter out null story points\n",
    "df_refined = df[df['story_points'] > 0]\n",
    "\n",
    "df_refined['complexity'] = df_refined['story_points'].apply(lambda x: 'S' if x < 3 else 'M' if x == 3 else 'L')\n",
    "df_refined['complexity'].value_counts().plot(kind='pie')"
   ]
  },
  {
   "cell_type": "code",
   "execution_count": 25,
   "metadata": {},
   "outputs": [
    {
     "data": {
      "text/plain": [
       "complexity\n",
       "S    265\n",
       "M     99\n",
       "L     55\n",
       "Name: count, dtype: int64"
      ]
     },
     "execution_count": 25,
     "metadata": {},
     "output_type": "execute_result"
    }
   ],
   "source": [
    "df_refined['complexity'].value_counts()"
   ]
  },
  {
   "cell_type": "code",
   "execution_count": 26,
   "metadata": {},
   "outputs": [],
   "source": [
    "# df_refined = (\n",
    "#     df_refined.groupby('complexity')\n",
    "#       .sample(n=55, random_state=42)  # Use random_state for reproducibility\n",
    "# )\n",
    "\n",
    "# df_refined['complexity'].value_counts()"
   ]
  },
  {
   "cell_type": "code",
   "execution_count": 27,
   "metadata": {},
   "outputs": [
    {
     "data": {
      "text/plain": [
       "<Axes: ylabel='count'>"
      ]
     },
     "execution_count": 27,
     "metadata": {},
     "output_type": "execute_result"
    },
    {
     "data": {
      "image/png": "[encoded data removed]",
      "text/plain": [
       "<Figure size 640x480 with 1 Axes>"
      ]
     },
     "metadata": {},
     "output_type": "display_data"
    }
   ],
   "source": [
    "df_refined['complexity'].value_counts().plot(kind='pie')"
   ]
  },
  {
   "cell_type": "code",
   "execution_count": 28,
   "metadata": {},
   "outputs": [],
   "source": [
    "from sklearn.model_selection import train_test_split\n",
    "from sklearn.feature_extraction.text import TfidfVectorizer\n",
    "from sklearn.ensemble import RandomForestClassifier\n",
    "\n",
    "from sklearn.pipeline import Pipeline"
   ]
  },
  {
   "cell_type": "code",
   "execution_count": 29,
   "metadata": {},
   "outputs": [],
   "source": [
    "X_train, X_test, y_train, y_test =  train_test_split(df_refined['description'], df_refined['complexity'], test_size = 0.3, random_state =0, shuffle = True)"
   ]
  },
  {
   "cell_type": "code",
   "execution_count": 30,
   "metadata": {},
   "outputs": [
    {
     "data": {
      "text/plain": [
       "(key\n",
       " CTOOLS-784     S\n",
       " CTOOLS-880     L\n",
       " CTOOLS-1523    S\n",
       " CTOOLS-895     S\n",
       " CTOOLS-953     S\n",
       "               ..\n",
       " CTOOLS-937     S\n",
       " CTOOLS-1034    M\n",
       " CTOOLS-749     S\n",
       " CTOOLS-1336    S\n",
       " CTOOLS-359     S\n",
       " Name: complexity, Length: 126, dtype: object,\n",
       " array(['S', 'S', 'S', 'S', 'S', 'S', 'S', 'S', 'S', 'S', 'S', 'S', 'S',\n",
       "        'S', 'M', 'S', 'S', 'S', 'S', 'S', 'S', 'S', 'S', 'S', 'S', 'S',\n",
       "        'S', 'M', 'S', 'S', 'M', 'S', 'S', 'S', 'S', 'S', 'S', 'M', 'S',\n",
       "        'S', 'S', 'S', 'S', 'S', 'S', 'S', 'S', 'S', 'L', 'S', 'S', 'L',\n",
       "        'S', 'S', 'S', 'S', 'S', 'S', 'M', 'S', 'S', 'S', 'S', 'S', 'S',\n",
       "        'M', 'S', 'S', 'S', 'S', 'M', 'M', 'S', 'S', 'S', 'S', 'S', 'S',\n",
       "        'M', 'S', 'S', 'M', 'M', 'S', 'M', 'S', 'S', 'S', 'S', 'S', 'S',\n",
       "        'S', 'S', 'M', 'M', 'S', 'S', 'S', 'S', 'S', 'S', 'S', 'M', 'S',\n",
       "        'S', 'S', 'S', 'S', 'S', 'S', 'S', 'S', 'S', 'S', 'S', 'S', 'S',\n",
       "        'S', 'S', 'S', 'S', 'S', 'M', 'S', 'S', 'S'], dtype=object))"
      ]
     },
     "execution_count": 30,
     "metadata": {},
     "output_type": "execute_result"
    }
   ],
   "source": [
    "classifier = Pipeline([(\"tfidf\", TfidfVectorizer()) , (\"classifier\", RandomForestClassifier(n_estimators=100))])\n",
    "classifier.fit(X_train, y_train)\n",
    "\n",
    "y_pred = classifier.predict(X_test)\n",
    "y_test, y_pred"
   ]
  },
  {
   "cell_type": "code",
   "execution_count": 31,
   "metadata": {},
   "outputs": [
    {
     "data": {
      "text/plain": [
       "0.6746031746031746"
      ]
     },
     "execution_count": 31,
     "metadata": {},
     "output_type": "execute_result"
    }
   ],
   "source": [
    "from sklearn.metrics import classification_report, accuracy_score, confusion_matrix, roc_curve\n",
    "accuracy_score(y_test, y_pred)"
   ]
  },
  {
   "cell_type": "code",
   "execution_count": 32,
   "metadata": {},
   "outputs": [
    {
     "data": {
      "text/plain": [
       "<Axes: >"
      ]
     },
     "execution_count": 32,
     "metadata": {},
     "output_type": "execute_result"
    },
    {
     "data": {
      "image/png": "[encoded data removed]",
      "text/plain": [
       "<Figure size 640x480 with 2 Axes>"
      ]
     },
     "metadata": {},
     "output_type": "display_data"
    }
   ],
   "source": [
    "sns.heatmap(confusion_matrix(y_test, y_pred), annot=True, fmt=\"d\", cmap=\"Blues\")"
   ]
  },
  {
   "cell_type": "code",
   "execution_count": 33,
   "metadata": {},
   "outputs": [
    {
     "name": "stdout",
     "output_type": "stream",
     "text": [
      "              precision    recall  f1-score   support\n",
      "\n",
      "           L       1.00      0.10      0.18        20\n",
      "           M       0.31      0.20      0.24        25\n",
      "           S       0.72      0.96      0.83        81\n",
      "\n",
      "    accuracy                           0.67       126\n",
      "   macro avg       0.68      0.42      0.42       126\n",
      "weighted avg       0.69      0.67      0.61       126\n",
      "\n"
     ]
    }
   ],
   "source": [
    "print(classification_report(y_test, y_pred))"
   ]
  },
  {
   "cell_type": "code",
   "execution_count": 34,
   "metadata": {},
   "outputs": [
    {
     "data": {
      "text/plain": [
       "array(['S'], dtype=object)"
      ]
     },
     "execution_count": 34,
     "metadata": {},
     "output_type": "execute_result"
    }
   ],
   "source": [
    "classifier.predict([\"rewrite leaflet feature to the discussions service\"])"
   ]
  },
  {
   "cell_type": "code",
   "execution_count": 35,
   "metadata": {},
   "outputs": [],
   "source": [
    "# import joblib\n",
    "# joblib.dump(classifier, 'complexity_classifier.joblib')"
   ]
  }
 ],
 "metadata": {
  "kernelspec": {
   "display_name": "Python 3",
   "language": "python",
   "name": "python3"
  },
  "language_info": {
   "codemirror_mode": {
    "name": "ipython",
    "version": 3
   },
   "file_extension": ".py",
   "mimetype": "text/x-python",
   "name": "python",
   "nbconvert_exporter": "python",
   "pygments_lexer": "ipython3",
   "version": "3.10.0"
  }
 },
 "nbformat": 4,
 "nbformat_minor": 2
}
